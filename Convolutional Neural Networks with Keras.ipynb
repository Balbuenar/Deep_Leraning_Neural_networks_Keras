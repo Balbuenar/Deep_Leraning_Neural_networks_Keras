{
    "cells": [
        {
            "cell_type": "markdown",
            "metadata": {
                "collapsed": true
            },
            "source": "<h1 align=center><font size = 5>Convolutional Neural Networks with Keras</font></h1>"
        },
        {
            "cell_type": "markdown",
            "metadata": {},
            "source": "In this Notebook, we will learn how to use the Keras library to build convolutional neural networks. We will also use the popular MNIST dataset and we will compare our results to using a conventional neural network."
        },
        {
            "cell_type": "markdown",
            "metadata": {},
            "source": "## Table of Contents\n\n<div class=\"alert alert-block alert-info\" style=\"margin-top: 20px\">\n\n<font size = 3>\n      \n1. <a href=\"#item41\">Import Keras and Packages</a>   \n2. <a href=\"#item42\">Convolutional Neural Network with One Convolutional and Pooling Layers</a>  \n3. <a href=\"#item43\">Convolutional Neural Network with Two Convolutional and Pooling Layers</a>  \n\n</font>\n</div>"
        },
        {
            "cell_type": "markdown",
            "metadata": {},
            "source": "## Import Keras and Packages"
        },
        {
            "cell_type": "markdown",
            "metadata": {},
            "source": "Let's start by importing the keras libraries and the packages that we would need to build a neural network."
        },
        {
            "cell_type": "code",
            "execution_count": 1,
            "metadata": {},
            "outputs": [
                {
                    "name": "stderr",
                    "output_type": "stream",
                    "text": "Using TensorFlow backend.\n"
                }
            ],
            "source": "import keras\nfrom keras.models import Sequential\nfrom keras.layers import Dense\nfrom keras.utils import to_categorical"
        },
        {
            "cell_type": "markdown",
            "metadata": {},
            "source": "When working with convolutional neural networks in particular, we will need additional packages."
        },
        {
            "cell_type": "code",
            "execution_count": 2,
            "metadata": {},
            "outputs": [],
            "source": "from keras.layers.convolutional import Conv2D # to add convolutional layers\nfrom keras.layers.convolutional import MaxPooling2D # to add pooling layers\nfrom keras.layers import Flatten # to flatten data for fully connected layers"
        },
        {
            "cell_type": "markdown",
            "metadata": {},
            "source": "## Convolutional Layer with One set of convolutional and pooling layers"
        },
        {
            "cell_type": "code",
            "execution_count": 3,
            "metadata": {},
            "outputs": [
                {
                    "name": "stdout",
                    "output_type": "stream",
                    "text": "Downloading data from https://s3.amazonaws.com/img-datasets/mnist.npz\n11493376/11490434 [==============================] - 0s 0us/step\n"
                }
            ],
            "source": "# import data\nfrom keras.datasets import mnist\n\n# load data\n(X_train, y_train), (X_test, y_test) = mnist.load_data()\n\n# reshape to be [samples][pixels][width][height]\nX_train = X_train.reshape(X_train.shape[0], 28, 28, 1).astype('float32')\nX_test = X_test.reshape(X_test.shape[0], 28, 28, 1).astype('float32')"
        },
        {
            "cell_type": "code",
            "execution_count": 4,
            "metadata": {},
            "outputs": [],
            "source": "X_train = X_train / 255 # normalize training data\nX_test = X_test / 255 # normalize test data"
        },
        {
            "cell_type": "markdown",
            "metadata": {},
            "source": "Next, let's convert the target variable into binary categories"
        },
        {
            "cell_type": "code",
            "execution_count": 5,
            "metadata": {},
            "outputs": [],
            "source": "y_train = to_categorical(y_train)\ny_test = to_categorical(y_test)\n\nnum_classes = y_test.shape[1] # number of categories"
        },
        {
            "cell_type": "markdown",
            "metadata": {},
            "source": "Next, let's define a function that creates our model. Let's start with one set of convolutional and pooling layers."
        },
        {
            "cell_type": "code",
            "execution_count": 6,
            "metadata": {},
            "outputs": [],
            "source": "def convolutional_model():\n    \n    # create model\n    model = Sequential()\n    model.add(Conv2D(16, (5, 5), strides=(1, 1), activation='relu', input_shape=(28, 28, 1)))\n    model.add(MaxPooling2D(pool_size=(2, 2), strides=(2, 2)))\n    \n    model.add(Flatten())\n    model.add(Dense(100, activation='relu'))\n    model.add(Dense(num_classes, activation='softmax'))\n    \n    # compile model\n    model.compile(optimizer='adam', loss='categorical_crossentropy',  metrics=['accuracy'])\n    return model"
        },
        {
            "cell_type": "markdown",
            "metadata": {},
            "source": "Finally, let's call the function to create the model, and then let's train it and evaluate it."
        },
        {
            "cell_type": "code",
            "execution_count": 7,
            "metadata": {},
            "outputs": [
                {
                    "name": "stdout",
                    "output_type": "stream",
                    "text": "WARNING:tensorflow:From /opt/conda/envs/Python36/lib/python3.6/site-packages/tensorflow/python/framework/op_def_library.py:263: colocate_with (from tensorflow.python.framework.ops) is deprecated and will be removed in a future version.\nInstructions for updating:\nColocations handled automatically by placer.\nWARNING:tensorflow:From /opt/conda/envs/Python36/lib/python3.6/site-packages/tensorflow/python/ops/math_ops.py:3066: to_int32 (from tensorflow.python.ops.math_ops) is deprecated and will be removed in a future version.\nInstructions for updating:\nUse tf.cast instead.\nTrain on 60000 samples, validate on 10000 samples\nEpoch 1/10\n - 103s - loss: 0.3279 - acc: 0.9065 - val_loss: 0.1212 - val_acc: 0.9653\nEpoch 2/10\n - 95s - loss: 0.0994 - acc: 0.9711 - val_loss: 0.0698 - val_acc: 0.9794\nEpoch 3/10\n - 95s - loss: 0.0684 - acc: 0.9794 - val_loss: 0.0640 - val_acc: 0.9789\nEpoch 4/10\n - 108s - loss: 0.0532 - acc: 0.9840 - val_loss: 0.0492 - val_acc: 0.9822\nEpoch 5/10\n - 102s - loss: 0.0425 - acc: 0.9871 - val_loss: 0.0417 - val_acc: 0.9854\nEpoch 6/10\n - 105s - loss: 0.0361 - acc: 0.9892 - val_loss: 0.0416 - val_acc: 0.9867\nEpoch 7/10\n - 94s - loss: 0.0307 - acc: 0.9906 - val_loss: 0.0419 - val_acc: 0.9866\nEpoch 8/10\n - 114s - loss: 0.0260 - acc: 0.9921 - val_loss: 0.0408 - val_acc: 0.9869\nEpoch 9/10\n - 101s - loss: 0.0215 - acc: 0.9934 - val_loss: 0.0403 - val_acc: 0.9866\nEpoch 10/10\n - 110s - loss: 0.0181 - acc: 0.9944 - val_loss: 0.0429 - val_acc: 0.9865\nAccuracy: 0.9865 \n Error: 1.3499999999999943\n"
                }
            ],
            "source": "# build the model\nmodel = convolutional_model()\n\n# fit the model\nmodel.fit(X_train, y_train, validation_data=(X_test, y_test), epochs=10, batch_size=200, verbose=2)\n\n# evaluate the model\nscores = model.evaluate(X_test, y_test, verbose=0)\nprint(\"Accuracy: {} \\n Error: {}\".format(scores[1], 100-scores[1]*100))"
        },
        {
            "cell_type": "markdown",
            "metadata": {},
            "source": "## Convolutional Layer with two sets of convolutional and pooling layers"
        },
        {
            "cell_type": "markdown",
            "metadata": {},
            "source": "Let's redefine our convolutional model so that it has two convolutional and pooling layers instead of just one layer of each."
        },
        {
            "cell_type": "code",
            "execution_count": 8,
            "metadata": {},
            "outputs": [],
            "source": "def convolutional_model():\n    \n    # create model\n    model = Sequential()\n    model.add(Conv2D(16, (5, 5), activation='relu', input_shape=(28, 28, 1)))\n    model.add(MaxPooling2D(pool_size=(2, 2), strides=(2, 2)))\n    \n    model.add(Conv2D(8, (2, 2), activation='relu'))\n    model.add(MaxPooling2D(pool_size=(2, 2), strides=(2, 2)))\n    \n    model.add(Flatten())\n    model.add(Dense(100, activation='relu'))\n    model.add(Dense(num_classes, activation='softmax'))\n    \n    # Compile model\n    model.compile(optimizer='adam', loss='categorical_crossentropy',  metrics=['accuracy'])\n    return model"
        },
        {
            "cell_type": "markdown",
            "metadata": {},
            "source": "Now, let's call the function to create our new convolutional neural network, and then let's train it and evaluate it."
        },
        {
            "cell_type": "code",
            "execution_count": 9,
            "metadata": {},
            "outputs": [
                {
                    "name": "stdout",
                    "output_type": "stream",
                    "text": "Train on 60000 samples, validate on 10000 samples\nEpoch 1/10\n - 174s - loss: 0.4827 - acc: 0.8592 - val_loss: 0.1454 - val_acc: 0.9580\nEpoch 2/10\n - 198s - loss: 0.1213 - acc: 0.9631 - val_loss: 0.0887 - val_acc: 0.9733\nEpoch 3/10\n - 205s - loss: 0.0852 - acc: 0.9742 - val_loss: 0.0631 - val_acc: 0.9810\nEpoch 4/10\n - 199s - loss: 0.0682 - acc: 0.9789 - val_loss: 0.0524 - val_acc: 0.9828\nEpoch 5/10\n - 207s - loss: 0.0588 - acc: 0.9818 - val_loss: 0.0547 - val_acc: 0.9823\nEpoch 6/10\n - 188s - loss: 0.0511 - acc: 0.9843 - val_loss: 0.0522 - val_acc: 0.9830\nEpoch 7/10\n - 179s - loss: 0.0462 - acc: 0.9861 - val_loss: 0.0409 - val_acc: 0.9865\nEpoch 8/10\n - 187s - loss: 0.0429 - acc: 0.9867 - val_loss: 0.0416 - val_acc: 0.9862\nEpoch 9/10\n - 185s - loss: 0.0373 - acc: 0.9885 - val_loss: 0.0456 - val_acc: 0.9842\nEpoch 10/10\n - 186s - loss: 0.0351 - acc: 0.9889 - val_loss: 0.0381 - val_acc: 0.9876\nAccuracy: 0.9876 \n Error: 1.2399999999999949\n"
                }
            ],
            "source": "# build the model\nmodel = convolutional_model()\n\n# fit the model\nmodel.fit(X_train, y_train, validation_data=(X_test, y_test), epochs=10, batch_size=200, verbose=2)\n\n# evaluate the model\nscores = model.evaluate(X_test, y_test, verbose=0)\nprint(\"Accuracy: {} \\n Error: {}\".format(scores[1], 100-scores[1]*100))"
        },
        {
            "cell_type": "code",
            "execution_count": null,
            "metadata": {},
            "outputs": [],
            "source": ""
        }
    ],
    "metadata": {
        "kernelspec": {
            "display_name": "Python 3.6",
            "language": "python",
            "name": "python3"
        },
        "language_info": {
            "codemirror_mode": {
                "name": "ipython",
                "version": 3
            },
            "file_extension": ".py",
            "mimetype": "text/x-python",
            "name": "python",
            "nbconvert_exporter": "python",
            "pygments_lexer": "ipython3",
            "version": "3.6.9"
        }
    },
    "nbformat": 4,
    "nbformat_minor": 1
}